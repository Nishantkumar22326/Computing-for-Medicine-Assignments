{
 "cells": [
  {
   "cell_type": "markdown",
   "id": "e68d50dc",
   "metadata": {},
   "source": [
    "# HeartWell: Hypertension Management\n",
    "### Jupyter Notebook for Patient Monitoring using FHIR"
   ]
  },
  {
   "cell_type": "markdown",
   "id": "6ed335c8",
   "metadata": {},
   "source": [
    "## Step 1: Setting Up the Environment\n",
    "Install all the needed libraries."
   ]
  },
  {
   "cell_type": "code",
   "execution_count": 10,
   "id": "76917d45",
   "metadata": {},
   "outputs": [
    {
     "name": "stdout",
     "output_type": "stream",
     "text": [
      "Requirement already satisfied: fhirpy in c:\\users\\nisha\\appdata\\local\\programs\\python\\python311\\lib\\site-packages (2.0.11)\n",
      "Requirement already satisfied: requests>=2.25.1 in c:\\users\\nisha\\appdata\\local\\programs\\python\\python311\\lib\\site-packages (from fhirpy) (2.32.3)\n",
      "Requirement already satisfied: aiohttp>=3.6.3 in c:\\users\\nisha\\appdata\\local\\programs\\python\\python311\\lib\\site-packages (from fhirpy) (3.10.7)\n",
      "Requirement already satisfied: pytz in c:\\users\\nisha\\appdata\\local\\programs\\python\\python311\\lib\\site-packages (from fhirpy) (2024.2)\n",
      "Requirement already satisfied: typing-extensions in c:\\users\\nisha\\appdata\\roaming\\python\\python311\\site-packages (from fhirpy) (4.12.2)\n",
      "Requirement already satisfied: aiohappyeyeballs>=2.3.0 in c:\\users\\nisha\\appdata\\local\\programs\\python\\python311\\lib\\site-packages (from aiohttp>=3.6.3->fhirpy) (2.4.2)\n",
      "Requirement already satisfied: aiosignal>=1.1.2 in c:\\users\\nisha\\appdata\\local\\programs\\python\\python311\\lib\\site-packages (from aiohttp>=3.6.3->fhirpy) (1.3.1)\n",
      "Requirement already satisfied: attrs>=17.3.0 in c:\\users\\nisha\\appdata\\local\\programs\\python\\python311\\lib\\site-packages (from aiohttp>=3.6.3->fhirpy) (24.2.0)\n",
      "Requirement already satisfied: frozenlist>=1.1.1 in c:\\users\\nisha\\appdata\\local\\programs\\python\\python311\\lib\\site-packages (from aiohttp>=3.6.3->fhirpy) (1.4.1)\n",
      "Requirement already satisfied: multidict<7.0,>=4.5 in c:\\users\\nisha\\appdata\\local\\programs\\python\\python311\\lib\\site-packages (from aiohttp>=3.6.3->fhirpy) (6.1.0)\n",
      "Requirement already satisfied: yarl<2.0,>=1.12.0 in c:\\users\\nisha\\appdata\\local\\programs\\python\\python311\\lib\\site-packages (from aiohttp>=3.6.3->fhirpy) (1.13.1)\n",
      "Requirement already satisfied: charset-normalizer<4,>=2 in c:\\users\\nisha\\appdata\\local\\programs\\python\\python311\\lib\\site-packages (from requests>=2.25.1->fhirpy) (3.3.2)\n",
      "Requirement already satisfied: idna<4,>=2.5 in c:\\users\\nisha\\appdata\\local\\programs\\python\\python311\\lib\\site-packages (from requests>=2.25.1->fhirpy) (3.10)\n",
      "Requirement already satisfied: urllib3<3,>=1.21.1 in c:\\users\\nisha\\appdata\\local\\programs\\python\\python311\\lib\\site-packages (from requests>=2.25.1->fhirpy) (2.2.3)\n",
      "Requirement already satisfied: certifi>=2017.4.17 in c:\\users\\nisha\\appdata\\local\\programs\\python\\python311\\lib\\site-packages (from requests>=2.25.1->fhirpy) (2024.8.30)\n",
      "Note: you may need to restart the kernel to use updated packages.\n"
     ]
    },
    {
     "name": "stderr",
     "output_type": "stream",
     "text": [
      "\n",
      "[notice] A new release of pip is available: 23.1.2 -> 24.3.1\n",
      "[notice] To update, run: python.exe -m pip install --upgrade pip\n"
     ]
    }
   ],
   "source": [
    "%pip install fhirpy"
   ]
  },
  {
   "cell_type": "markdown",
   "id": "ee8563d3",
   "metadata": {},
   "source": [
    "## Step 2: Import all the necessary Libraries\n",
    "Import the `fhirpy` library to interact with FHIR server.\n",
    "Import the json library also."
   ]
  },
  {
   "cell_type": "code",
   "execution_count": 11,
   "id": "36cd2d8b",
   "metadata": {},
   "outputs": [],
   "source": [
    "from fhirpy import SyncFHIRClient\n",
    "import json"
   ]
  },
  {
   "cell_type": "markdown",
   "id": "b6fba07a",
   "metadata": {},
   "source": [
    "## Step 3: Connect to the FHIR Server\n",
    "Connect to the public FHIR server using the `fhirpy` client."
   ]
  },
  {
   "cell_type": "code",
   "execution_count": 12,
   "id": "05064e97",
   "metadata": {},
   "outputs": [],
   "source": [
    "client = SyncFHIRClient('https://server.fire.ly')"
   ]
  },
  {
   "cell_type": "markdown",
   "id": "635cbf80",
   "metadata": {},
   "source": [
    "## Step 4: Creating a New Patient\n",
    "Creating a new patient resource for patient named Sunita Verma and saving it to the FHIR server."
   ]
  },
  {
   "cell_type": "code",
   "execution_count": 13,
   "id": "0a066e4f",
   "metadata": {},
   "outputs": [
    {
     "name": "stdout",
     "output_type": "stream",
     "text": [
      "New patient created with ID: 206fe0b5-2836-4cf9-a749-225acca8e020\n"
     ]
    }
   ],
   "source": [
    "\n",
    "new_patient = client.resource(\n",
    "    'Patient',\n",
    "    name=[{'family': 'Verma', 'given': ['Sunita']}],\n",
    "    gender='female',\n",
    "    birthDate='1975-06-15'\n",
    ")\n",
    "\n",
    "new_patient.save()\n",
    "print(f\"New patient created with ID: {new_patient['id']}\")\n"
   ]
  },
  {
   "cell_type": "markdown",
   "id": "6f66f026",
   "metadata": {},
   "source": [
    "## Step 5: Create a Blood Pressure Observation\n",
    "Recording the blood pressure observation for the patient named Sunita Verma and saving it."
   ]
  },
  {
   "cell_type": "code",
   "execution_count": 14,
   "id": "139759ce",
   "metadata": {},
   "outputs": [
    {
     "name": "stdout",
     "output_type": "stream",
     "text": [
      "New blood pressure observation created with ID: a54f8227-673d-4ac4-9afc-8eb04d4bc5bd\n"
     ]
    }
   ],
   "source": [
    "\n",
    "new_observation = client.resource(\n",
    "    'Observation',\n",
    "    status='final',\n",
    "    category=[{'coding': [{'system': 'http://terminology.hl7.org/CodeSystem/observation-category', 'code': 'vital-signs'}]}],\n",
    "    code={'coding': [{'system': 'http://loinc.org', 'code': '85354-9', 'display': 'Blood pressure systolic & diastolic'}]},\n",
    "    subject={'reference': f'Patient/{new_patient[\"id\"]}'},\n",
    "    component=[\n",
    "        {\n",
    "            'code': {'coding': [{'system': 'http://loinc.org', 'code': '8480-6', 'display': 'Systolic blood pressure'}]},\n",
    "            'valueQuantity': {'value': 160, 'unit': 'mmHg'}\n",
    "        },\n",
    "        {\n",
    "            'code': {'coding': [{'system': 'http://loinc.org', 'code': '8462-4', 'display': 'Diastolic blood pressure'}]},\n",
    "            'valueQuantity': {'value': 95, 'unit': 'mmHg'}\n",
    "        }\n",
    "    ],\n",
    "    effectiveDateTime='2024-09-28T10:00:00Z'\n",
    ")\n",
    "\n",
    "new_observation.save()\n",
    "print(f\"New blood pressure observation created with ID: {new_observation['id']}\")\n"
   ]
  },
  {
   "cell_type": "markdown",
   "id": "b9162b1f",
   "metadata": {},
   "source": [
    "## Step 6: Fetch Observations for the Patient\n",
    "Fetching all the recorded observations for the patient named Sunita Verma."
   ]
  },
  {
   "cell_type": "code",
   "execution_count": 15,
   "id": "e210459f",
   "metadata": {},
   "outputs": [
    {
     "name": "stdout",
     "output_type": "stream",
     "text": [
      "Observation ID: a54f8227-673d-4ac4-9afc-8eb04d4bc5bd, Systolic blood pressure: 160 mmHg\n",
      "Observation ID: a54f8227-673d-4ac4-9afc-8eb04d4bc5bd, Diastolic blood pressure: 95 mmHg\n"
     ]
    }
   ],
   "source": [
    "\n",
    "observations = client.resources('Observation').search(subject=f'Patient/{new_patient[\"id\"]}').fetch()\n",
    "\n",
    "for obs in observations:\n",
    "    for component in obs['component']:\n",
    "        code = component['code']['coding'][0]['display']\n",
    "        value = component['valueQuantity']['value']\n",
    "        unit = component['valueQuantity']['unit']\n",
    "        print(f\"Observation ID: {obs['id']}, {code}: {value} {unit}\")\n"
   ]
  },
  {
   "cell_type": "markdown",
   "id": "9b1c8eb3",
   "metadata": {},
   "source": [
    "## Step 7: Trigger Real-Time Alerts for Critical Values\n",
    "Checking if the observation values exceed critical thresholds and triggering alerts."
   ]
  },
  {
   "cell_type": "code",
   "execution_count": 16,
   "id": "81144689",
   "metadata": {},
   "outputs": [],
   "source": [
    "\n",
    "critical_systolic = 160\n",
    "critical_diastolic = 100\n",
    "\n",
    "for obs in observations:\n",
    "    systolic = next((comp['valueQuantity']['value'] for comp in obs['component'] if comp['code']['coding'][0]['code'] == '8480-6'), None)\n",
    "    diastolic = next((comp['valueQuantity']['value'] for comp in obs['component'] if comp['code']['coding'][0]['code'] == '8462-4'), None)\n",
    "\n",
    "    if systolic and diastolic:\n",
    "        if systolic > critical_systolic or diastolic > critical_diastolic:\n",
    "            print(f\"Alert! Critical blood pressure reading detected: {systolic}/{diastolic} mmHg\")\n"
   ]
  },
  {
   "cell_type": "markdown",
   "id": "79b5e624",
   "metadata": {},
   "source": [
    "## Step 8: Send Real-Time Alerts to Healthcare Provider\n",
    "Creating a communication resource to send an alert to Dr. Mehta(Sunita Verma's Practitioner) when critical values are detected."
   ]
  },
  {
   "cell_type": "code",
   "execution_count": 17,
   "id": "16a54340",
   "metadata": {},
   "outputs": [
    {
     "name": "stdout",
     "output_type": "stream",
     "text": [
      "Communication alert sent with ID: 34ca5aee-005b-4e5a-8cca-bef0d1e22e0e\n",
      "JSON Bundle saved to 'fhir_bundle.json'\n"
     ]
    }
   ],
   "source": [
    "\n",
    "new_communication = client.resource(\n",
    "    'Communication',\n",
    "    status='in-progress',\n",
    "    category=[{'coding': [{'system': 'http://hl7.org/fhir/ValueSet/communication-category', 'code': 'alert', 'display': 'Alert'}]}],\n",
    "    subject={'reference': f'Patient/{new_patient[\"id\"]}'},\n",
    "    sender={'reference': 'Practitioner/12345'}, \n",
    "    recipient=[{'reference': 'Practitioner/Dr.Mehta'}],\n",
    "    payload=[{'contentString': f\"Critical blood pressure detected for patient Sunita Verma: {systolic}/{diastolic} mmHg\"}],\n",
    "    sent='2024-09-28T11:00:00Z'\n",
    ")\n",
    "\n",
    "new_communication.save()\n",
    "print(f\"Communication alert sent with ID: {new_communication['id']}\")\n",
    "\n",
    "\n",
    "# Creating the JSON bundle with the saved resource IDs\n",
    "bundle = {\n",
    "    \"resourceType\": \"Bundle\",\n",
    "    \"id\": \"bundle-1\",\n",
    "    \"type\": \"transaction\",\n",
    "    \"entry\": [\n",
    "        {\n",
    "            \"resource\": {\n",
    "                \"resourceType\": \"Patient\",\n",
    "                \"id\": new_patient['id'],\n",
    "                \"name\": [\n",
    "                    {\n",
    "                        \"family\": \"Verma\",\n",
    "                        \"given\": [\"Sunita\"]\n",
    "                    }\n",
    "                ],\n",
    "                \"gender\": \"female\",\n",
    "                \"birthDate\": \"1975-06-15\"\n",
    "            },\n",
    "            \"request\": {\n",
    "                \"method\": \"POST\",\n",
    "                \"url\": \"Patient\"\n",
    "            }\n",
    "        },\n",
    "        {\n",
    "            \"resource\": {\n",
    "                \"resourceType\": \"Observation\",\n",
    "                \"id\": new_observation['id'],\n",
    "                \"status\": \"final\",\n",
    "                \"category\": [\n",
    "                    {\n",
    "                        \"coding\": [\n",
    "                            {\n",
    "                                \"system\": \"http://terminology.hl7.org/CodeSystem/observation-category\",\n",
    "                                \"code\": \"vital-signs\"\n",
    "                            }\n",
    "                        ]\n",
    "                    }\n",
    "                ],\n",
    "                \"code\": {\n",
    "                    \"coding\": [\n",
    "                        {\n",
    "                            \"system\": \"http://loinc.org\",\n",
    "                            \"code\": \"85354-9\",\n",
    "                            \"display\": \"Blood pressure systolic & diastolic\"\n",
    "                        }\n",
    "                    ]\n",
    "                },\n",
    "                \"subject\": {\n",
    "                    \"reference\": f'Patient/{new_patient[\"id\"]}'\n",
    "                },\n",
    "                \"component\": [\n",
    "                    {\n",
    "                        \"code\": {\n",
    "                            \"coding\": [\n",
    "                                {\n",
    "                                    \"system\": \"http://loinc.org\",\n",
    "                                    \"code\": \"8480-6\",\n",
    "                                    \"display\": \"Systolic blood pressure\"\n",
    "                                }\n",
    "                            ]\n",
    "                        },\n",
    "                        \"valueQuantity\": {\n",
    "                            \"value\": 160,\n",
    "                            \"unit\": \"mmHg\"\n",
    "                        }\n",
    "                    },\n",
    "                    {\n",
    "                        \"code\": {\n",
    "                            \"coding\": [\n",
    "                                {\n",
    "                                    \"system\": \"http://loinc.org\",\n",
    "                                    \"code\": \"8462-4\",\n",
    "                                    \"display\": \"Diastolic blood pressure\"\n",
    "                                }\n",
    "                            ]\n",
    "                        },\n",
    "                        \"valueQuantity\": {\n",
    "                            \"value\": 95,\n",
    "                            \"unit\": \"mmHg\"\n",
    "                        }\n",
    "                    }\n",
    "                ],\n",
    "                \"effectiveDateTime\": \"2024-09-28T10:00:00Z\"\n",
    "            },\n",
    "            \"request\": {\n",
    "                \"method\": \"POST\",\n",
    "                \"url\": \"Observation\"\n",
    "            }\n",
    "        },\n",
    "        {\n",
    "            \"resource\": {\n",
    "                \"resourceType\": \"Communication\",\n",
    "                \"id\": new_communication['id'],\n",
    "                \"status\": \"in-progress\",\n",
    "                \"category\": [\n",
    "                    {\n",
    "                        \"coding\": [\n",
    "                            {\n",
    "                                \"system\": \"http://hl7.org/fhir/ValueSet/communication-category\",\n",
    "                                \"code\": \"alert\",\n",
    "                                \"display\": \"Alert\"\n",
    "                            }\n",
    "                        ]\n",
    "                    }\n",
    "                ],\n",
    "                \"subject\": {\n",
    "                    \"reference\": f'Patient/{new_patient[\"id\"]}'\n",
    "                },\n",
    "                \"sender\": {\n",
    "                    \"reference\": \"Practitioner/12345\"\n",
    "                },\n",
    "                \"recipient\": [\n",
    "                    {\n",
    "                        \"reference\": \"Practitioner/Dr.Mehta\"\n",
    "                    }\n",
    "                ],\n",
    "                \"payload\": [\n",
    "                    {\n",
    "                        \"contentString\": f\"Critical blood pressure detected for patient Sunita Verma: 160/95 mmHg\"\n",
    "                    }\n",
    "                ],\n",
    "                \"sent\": \"2024-09-28T11:00:00Z\"\n",
    "            },\n",
    "            \"request\": {\n",
    "                \"method\": \"POST\",\n",
    "                \"url\": \"Communication\"\n",
    "            }\n",
    "        }\n",
    "    ]\n",
    "}\n",
    "\n",
    "# Saving the bundle to a JSON file\n",
    "with open('fhir_bundle.json', 'w') as json_file:\n",
    "    json.dump(bundle, json_file, indent=2)\n",
    "\n",
    "print(\"JSON Bundle saved to 'fhir_bundle.json'\")\n"
   ]
  },
  {
   "cell_type": "markdown",
   "id": "26652635",
   "metadata": {},
   "source": [
    "## Step 9: Generate Weekly Report for the Patient\n",
    "Aggregating the blood pressure data for the week and sending a summary report to Dr. Mehta(Sunita's Practitioner)."
   ]
  },
  {
   "cell_type": "code",
   "execution_count": 18,
   "id": "30b69e1f",
   "metadata": {},
   "outputs": [
    {
     "name": "stdout",
     "output_type": "stream",
     "text": [
      "Patient details: {'resourceType': 'Patient', 'name': [{'family': 'Verma', 'given': ['Sunita']}], 'gender': 'female', 'birthDate': '1975-06-15', 'id': 'af8590eb-13f4-4ebc-aee4-3c045257c8dc', 'meta': {'versionId': '00aaa712-efa8-436f-b7bc-f3e333414fbf', 'lastUpdated': '2024-09-28T13:39:51.245+00:00'}}\n",
      "Available Observations for the patient:\n",
      "Observation ID: 11063772-f27e-4d8d-9a9c-1ec28f00ebf0, Date: 2024-09-28T10:00:00Z, Code: Blood pressure systolic & diastolic\n",
      "Observation Structure:\n",
      "{'resourceType': 'Observation', 'status': 'final', 'category': [{'coding': [{'system': 'http://terminology.hl7.org/CodeSystem/observation-category', 'code': 'vital-signs'}]}], 'code': {'coding': [{'system': 'http://loinc.org', 'code': '85354-9', 'display': 'Blood pressure systolic & diastolic'}]}, 'subject': {'reference': 'https://server.fire.ly/Patient/af8590eb-13f4-4ebc-aee4-3c045257c8dc'}, 'component': [{'code': {'coding': [{'system': 'http://loinc.org', 'code': '8480-6', 'display': 'Systolic blood pressure'}]}, 'valueQuantity': {'value': 160, 'unit': 'mmHg'}}, {'code': {'coding': [{'system': 'http://loinc.org', 'code': '8462-4', 'display': 'Diastolic blood pressure'}]}, 'valueQuantity': {'value': 95, 'unit': 'mmHg'}}], 'effectiveDateTime': '2024-09-28T10:00:00Z', 'id': '11063772-f27e-4d8d-9a9c-1ec28f00ebf0', 'meta': {'versionId': 'a79456d2-a187-44cc-ac54-fa2b1613bf93', 'lastUpdated': '2024-09-28T13:39:55.500+00:00'}}\n",
      "\n",
      "Vital Signs Observations:\n",
      "Observation ID: 11063772-f27e-4d8d-9a9c-1ec28f00ebf0, Date: 2024-09-28T10:00:00Z, Code: Blood pressure systolic & diastolic, Value: [{'code': {'coding': [{'system': 'http://loinc.org', 'code': '8480-6', 'display': 'Systolic blood pressure'}]}, 'valueQuantity': {'value': 160, 'unit': 'mmHg'}}, {'code': {'coding': [{'system': 'http://loinc.org', 'code': '8462-4', 'display': 'Diastolic blood pressure'}]}, 'valueQuantity': {'value': 95, 'unit': 'mmHg'}}]\n"
     ]
    }
   ],
   "source": [
    "from fhirpy import SyncFHIRClient\n",
    "\n",
    "# Creating a FHIR client instance\n",
    "client = SyncFHIRClient('https://server.fire.ly')\n",
    "\n",
    "# Retrieveing the pateint  patient by ID\n",
    "patient_id = 'af8590eb-13f4-4ebc-aee4-3c045257c8dc'  # Example patient ID\n",
    "patient = client.resources('Patient').search(_id=patient_id).first()\n",
    "\n",
    "if patient:\n",
    "    print(f\"Patient details: {patient.serialize()}\")\n",
    "else:\n",
    "    print(\"Patient not found\")\n",
    "\n",
    "# Fetching all observations for the patient\n",
    "all_observations = client.resources('Observation').search(\n",
    "    subject=f'Patient/{patient_id}'\n",
    ").fetch()\n",
    "\n",
    "# Checking if any observations are available\n",
    "if len(all_observations) > 0:\n",
    "    print(\"Available Observations for the patient:\")\n",
    "    for obs in all_observations:\n",
    "        print(f\"Observation ID: {obs['id']}, Date: {obs['effectiveDateTime']}, Code: {obs['code']['coding'][0]['display']}\")\n",
    "\n",
    "    # Printing the specific structure of the observation to check how the values are stored\n",
    "    for obs in all_observations:\n",
    "        if obs['id'] == '11063772-f27e-4d8d-9a9c-1ec28f00ebf0':  \n",
    "            # Converting to dictionary and printing\n",
    "            obs_dict = obs.serialize()  \n",
    "            print(\"Observation Structure:\")\n",
    "            print(obs_dict)  \n",
    "            break\n",
    "\n",
    "    # Additional Fetching for Specific Vital Signs\n",
    "    vital_sign_codes = ['85354-9', '8867-4', '8302-2']  \n",
    "    vital_signs = []\n",
    "\n",
    "    for obs in all_observations:\n",
    "        if obs['code']['coding'][0]['code'] in vital_sign_codes:\n",
    "            vital_signs.append(obs)\n",
    "\n",
    "    if vital_signs:\n",
    "        print(\"\\nVital Signs Observations:\")\n",
    "        for vitals in vital_signs:\n",
    "            print(f\"Observation ID: {vitals['id']}, Date: {vitals['effectiveDateTime']}, Code: {vitals['code']['coding'][0]['display']}, Value: {vitals['component'] if 'component' in vitals else 'N/A'}\")\n",
    "    else:\n",
    "        print(\"No vital signs observations available for the patient.\")\n",
    "else:\n",
    "    print(\"No observations available for the patient.\")\n",
    "\n",
    "\n",
    "\n",
    "\n"
   ]
  }
 ],
 "metadata": {
  "kernelspec": {
   "display_name": "Python 3",
   "language": "python",
   "name": "python3"
  },
  "language_info": {
   "codemirror_mode": {
    "name": "ipython",
    "version": 3
   },
   "file_extension": ".py",
   "mimetype": "text/x-python",
   "name": "python",
   "nbconvert_exporter": "python",
   "pygments_lexer": "ipython3",
   "version": "3.11.4"
  }
 },
 "nbformat": 4,
 "nbformat_minor": 5
}
